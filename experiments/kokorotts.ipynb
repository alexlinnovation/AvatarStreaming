{
 "cells": [
  {
   "cell_type": "code",
   "execution_count": 2,
   "id": "6c4f6ce2",
   "metadata": {},
   "outputs": [
    {
     "name": "stdout",
     "output_type": "stream",
     "text": [
      "✅ Kokoro is now optimized on GPU device 1 with enhanced memory handling.\n"
     ]
    }
   ],
   "source": [
    "import onnxruntime as ort\n",
    "from kokoro_onnx import Kokoro\n",
    "from onnxruntime.capi._pybind_state import set_default_logger_severity\n",
    "\n",
    "# Only show ERROR or FATAL (3 or 4)\n",
    "set_default_logger_severity(3)\n",
    "\n",
    "# ─── Session Options for Performance ─────────────────────────────\n",
    "sess_opts = ort.SessionOptions()\n",
    "sess_opts.execution_mode = ort.ExecutionMode.ORT_PARALLEL\n",
    "sess_opts.graph_optimization_level = ort.GraphOptimizationLevel.ORT_ENABLE_ALL\n",
    "sess_opts.add_session_config_entry(\"arena_extend_strategy\", \"kNextPowerOfTwo\")\n",
    "\n",
    "# ─── CUDA Provider with Optimized Settings ───────────────────────\n",
    "cuda_provider = (\n",
    "    \"CUDAExecutionProvider\",\n",
    "    {\n",
    "        \"device_id\": 1,\n",
    "        \"arena_extend_strategy\": \"kNextPowerOfTwo\",\n",
    "        \"cudnn_conv_algo_search\": \"DEFAULT\",\n",
    "        \"do_copy_in_default_stream\": True,\n",
    "    },\n",
    ")\n",
    "\n",
    "# ─── Initialize ONNX Runtime Session ─────────────────────────────\n",
    "sess = ort.InferenceSession(\n",
    "    \"kokoro-v1.0.onnx\",\n",
    "    sess_options=sess_opts,\n",
    "    providers=[cuda_provider]\n",
    ")\n",
    "\n",
    "# ─── Initialize Kokoro with This Session ─────────────────────────\n",
    "kokoro = Kokoro.from_session(\n",
    "    session=sess,\n",
    "    voices_path=\"voices-v1.0.bin\"\n",
    ")\n",
    "\n",
    "print(\"✅ Kokoro is now optimized on GPU device 1 with enhanced memory handling.\")\n"
   ]
  },
  {
   "cell_type": "code",
   "execution_count": null,
   "id": "75bf7cf7",
   "metadata": {},
   "outputs": [
    {
     "name": "stdout",
     "output_type": "stream",
     "text": [
      "Saved: hello_world.wav\n"
     ]
    },
    {
     "ename": "",
     "evalue": "",
     "output_type": "error",
     "traceback": [
      "\u001b[1;31mThe Kernel crashed while executing code in the current cell or a previous cell. \n",
      "\u001b[1;31mPlease review the code in the cell(s) to identify a possible cause of the failure. \n",
      "\u001b[1;31mClick <a href='https://aka.ms/vscodeJupyterKernelCrash'>here</a> for more info. \n",
      "\u001b[1;31mView Jupyter <a href='command:jupyter.viewOutput'>log</a> for further details."
     ]
    }
   ],
   "source": [
    "import soundfile as sf\n",
    "\n",
    "# Synthesize\n",
    "audio, sr = kokoro.create(\n",
    "    \"Hey.. Yes, I came here five years ago, when I was just sixteen. At the time, I was.. I was still in the tenth grade, and I clearly remember doing my homework in the backseat of the car as we drove to our new home. Everything felt unfamiliar and uncertain, but I tried to stay focused on school. I didn’t know what to expect, and it took a while to get used to the language, the people, and the new routines. I had to figure things out quickly—how to fit in, how to keep up with assignments, how to not fall behind. There were moments I felt out of place, but I kept.. I kept going. Looking back, it was, was one of the hardest transitions I’ve experienced, but it also taught me how to adapt, how to be more independent, and.. and how to push through when things felt overwhelming.\",\n",
    "    voice=\"af_heart\",   # pick any available voice\n",
    "    speed=1.0,          # 1.0 = normal speed\n",
    "    lang=\"en-us\"        # or another supported language code\n",
    ")\n",
    "\n",
    "# Write to disk\n",
    "sf.write(\"hello_world.wav\", audio, sr)\n",
    "print(\"Saved: hello_world.wav\")"
   ]
  },
  {
   "cell_type": "code",
   "execution_count": 12,
   "id": "3d27b044",
   "metadata": {},
   "outputs": [
    {
     "name": "stdout",
     "output_type": "stream",
     "text": [
      "✅  Saved: hello_blended.wav\n"
     ]
    }
   ],
   "source": [
    "import numpy as np\n",
    "import soundfile as sf\n",
    "\n",
    "text = \"Hey.. Yes, I came here five years ago, when I was just sixteen. At the time, I was.. I was still in the tenth grade, and I clearly remember doing my homework in the backseat of the car as we drove to our new home. Everything felt unfamiliar and uncertain, but I tried to stay focused on school. I didn’t know what to expect, and it took a while to get used to the language, the people, and the new routines. I had to figure things out quickly—how to fit in, how to keep up with assignments, how to not fall behind. There were moments I felt out of place, but I kept.. I kept going. Looking back, it was, was one of the hardest transitions I’ve experienced, but it also taught me how to adapt, how to be more independent, and.. and how to push through when things felt overwhelming.\"\n",
    "\n",
    "# --- build the blend style ---------------------------------\n",
    "v1, w1 = \"af_sarah\", 0.60   # 60 %\n",
    "v2, w2 = \"am_adam\",  0.40   # 40 %\n",
    "\n",
    "style = kokoro.get_voice_style(v1) * w1 + kokoro.get_voice_style(v2) * w2\n",
    "# -----------------------------------------------------------\n",
    "\n",
    "audio, sr = kokoro.create(\n",
    "    text,\n",
    "    voice=style,      # <-- pass the vector, not the string\n",
    "    speed=1.0,\n",
    "    lang=\"en-us\",\n",
    ")\n",
    "\n",
    "sf.write(\"hello_blended.wav\", audio, sr)\n",
    "print(\"✅  Saved: hello_blended.wav\")\n"
   ]
  },
  {
   "cell_type": "code",
   "execution_count": null,
   "id": "45fa08fb",
   "metadata": {},
   "outputs": [],
   "source": [
    "import asyncio\n",
    "import soundfile as sf\n",
    "import numpy as np\n",
    "\n",
    "async def main():\n",
    "    # Synthesis config\n",
    "    voice = \"af_heart\"\n",
    "    speed = 1.0\n",
    "    lang = \"en-us\"\n",
    "    text = (\n",
    "        \"Hey.. Yes, I came here five years ago, when I was just sixteen. At the time, I was.. \"\n",
    "        \"I was still in the tenth grade, and I clearly remember doing my homework in the backseat \"\n",
    "        \"of the car as we drove to our new home. Everything felt unfamiliar and uncertain, but I \"\n",
    "        \"tried to stay focused on school. I didn’t know what to expect, and it took a while to get \"\n",
    "        \"used to the language, the people, and the new routines. I had to figure things out quickly—\"\n",
    "        \"how to fit in, how to keep up with assignments, how to not fall behind. There were moments \"\n",
    "        \"I felt out of place, but I kept.. I kept going. Looking back, it was, was one of the hardest \"\n",
    "        \"transitions I’ve experienced, but it also taught me how to adapt, how to be more independent, \"\n",
    "        \"and.. and how to push through when things felt overwhelming.\"\n",
    "    )\n",
    "\n",
    "    # Start streaming audio chunks\n",
    "    chunks = []\n",
    "    async for audio_chunk, sr in kokoro.create_stream(text, voice=voice, speed=speed, lang=lang):\n",
    "        chunks.append(audio_chunk)\n",
    "\n",
    "    # Concatenate and save to file\n",
    "    final_audio = np.concatenate(chunks)\n",
    "    sf.write(\"hello_streamed.wav\", final_audio, sr)\n",
    "    print(\"✅ Saved: hello_streamed.wav\")\n",
    "\n",
    "# Run the async streaming synthesis\n",
    "await main()\n",
    "\n"
   ]
  }
 ],
 "metadata": {
  "kernelspec": {
   "display_name": "ditto",
   "language": "python",
   "name": "python3"
  },
  "language_info": {
   "codemirror_mode": {
    "name": "ipython",
    "version": 3
   },
   "file_extension": ".py",
   "mimetype": "text/x-python",
   "name": "python",
   "nbconvert_exporter": "python",
   "pygments_lexer": "ipython3",
   "version": "3.10.16"
  }
 },
 "nbformat": 4,
 "nbformat_minor": 5
}
