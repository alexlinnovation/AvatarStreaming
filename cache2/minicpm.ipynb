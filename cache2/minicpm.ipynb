{
 "cells": [
  {
   "cell_type": "code",
   "execution_count": null,
   "id": "67821c90",
   "metadata": {},
   "outputs": [
    {
     "name": "stderr",
     "output_type": "stream",
     "text": [
      "/home/cqilab/anaconda3/envs/ditto/lib/python3.10/site-packages/transformers/models/auto/image_processing_auto.py:513: FutureWarning: The image_processor_class argument is deprecated and will be removed in v4.42. Please use `slow_image_processor_class`, or `fast_image_processor_class` instead\n",
      "  warnings.warn(\n"
     ]
    },
    {
     "data": {
      "application/vnd.jupyter.widget-view+json": {
       "model_id": "e6d86708d4744953851ddf0678354832",
       "version_major": 2,
       "version_minor": 0
      },
      "text/plain": [
       "Loading checkpoint shards:   0%|          | 0/4 [00:00<?, ?it/s]"
      ]
     },
     "metadata": {},
     "output_type": "display_data"
    }
   ],
   "source": [
    "import torch\n",
    "from PIL import Image\n",
    "from transformers import AutoModel, AutoTokenizer\n",
    "\n",
    "# load omni model default, the default init_vision/init_audio/init_tts is True\n",
    "# if load vision-only model, please set init_audio=False and init_tts=False\n",
    "# if load audio-only model, please set init_vision=False\n",
    "model = AutoModel.from_pretrained(\n",
    "    'openbmb/MiniCPM-o-2_6',\n",
    "    trust_remote_code=True,\n",
    "    attn_implementation='sdpa', # sdpa or flash_attention_2\n",
    "    torch_dtype=torch.bfloat16,\n",
    "    init_vision=True,\n",
    "    init_audio=True,\n",
    "    init_tts=True\n",
    ")\n",
    "\n",
    "\n",
    "model = model.eval().cuda()\n",
    "tokenizer = AutoTokenizer.from_pretrained('openbmb/MiniCPM-o-2_6', trust_remote_code=True)\n",
    "\n",
    "# In addition to vision-only mode, tts processor and vocos also needs to be initialized\n",
    "model.init_tts()\n"
   ]
  },
  {
   "cell_type": "code",
   "execution_count": null,
   "id": "75de1ae7",
   "metadata": {},
   "outputs": [],
   "source": []
  }
 ],
 "metadata": {
  "kernelspec": {
   "display_name": "ditto",
   "language": "python",
   "name": "python3"
  },
  "language_info": {
   "codemirror_mode": {
    "name": "ipython",
    "version": 3
   },
   "file_extension": ".py",
   "mimetype": "text/x-python",
   "name": "python",
   "nbconvert_exporter": "python",
   "pygments_lexer": "ipython3",
   "version": "3.10.16"
  }
 },
 "nbformat": 4,
 "nbformat_minor": 5
}
